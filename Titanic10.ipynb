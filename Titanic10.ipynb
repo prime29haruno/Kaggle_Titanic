{
  "nbformat": 4,
  "nbformat_minor": 0,
  "metadata": {
    "colab": {
      "provenance": [],
      "authorship_tag": "ABX9TyPidXSHmB9pjKOSePOMWeDC",
      "include_colab_link": true
    },
    "kernelspec": {
      "name": "python3",
      "display_name": "Python 3"
    },
    "language_info": {
      "name": "python"
    }
  },
  "cells": [
    {
      "cell_type": "markdown",
      "metadata": {
        "id": "view-in-github",
        "colab_type": "text"
      },
      "source": [
        "<a href=\"https://colab.research.google.com/github/prime29haruno/Kaggle_Titanic/blob/main/Titanic10.ipynb\" target=\"_parent\"><img src=\"https://colab.research.google.com/assets/colab-badge.svg\" alt=\"Open In Colab\"/></a>"
      ]
    },
    {
      "cell_type": "code",
      "execution_count": null,
      "metadata": {
        "id": "K_JGvkDmSM0i"
      },
      "outputs": [],
      "source": [
        "import pandas as pd\n",
        "from sklearn.linear_model import LogisticRegression\n",
        "from sklearn.model_selection import train_test_split\n",
        "from sklearn.metrics import accuracy_score\n",
        "\n",
        "# データ読み込み\n",
        "train = pd.read_csv(\"/kaggle/input/titanic/train.csv\")\n",
        "test  = pd.read_csv(\"/kaggle/input/titanic/test.csv\")\n",
        "\n",
        "# 欠損処理\n",
        "train[\"Age\"] = train[\"Age\"].fillna(train[\"Age\"].median())\n",
        "test[\"Age\"]  = test[\"Age\"].fillna(train[\"Age\"].median())\n",
        "train[\"Fare\"] = train[\"Fare\"].fillna(train[\"Fare\"].median())\n",
        "test[\"Fare\"]  = test[\"Fare\"].fillna(test[\"Fare\"].median())\n",
        "train[\"Embarked\"] = train[\"Embarked\"].fillna(\"S\")\n",
        "test[\"Embarked\"]  = test[\"Embarked\"].fillna(\"S\")\n",
        "\n",
        "# 家族サイズ\n",
        "train[\"FamilySize\"] = train[\"SibSp\"] + train[\"Parch\"] + 1\n",
        "test[\"FamilySize\"]  = test[\"SibSp\"] + test[\"Parch\"] + 1\n",
        "\n",
        "# カテゴリを数値に変換\n",
        "train[\"Sex\"] = train[\"Sex\"].map({\"male\": 0, \"female\": 1})\n",
        "test[\"Sex\"]  = test[\"Sex\"].map({\"male\": 0, \"female\": 1})\n",
        "train[\"Embarked\"] = train[\"Embarked\"].map({\"S\": 0, \"C\": 1, \"Q\": 2})\n",
        "test[\"Embarked\"]  = test[\"Embarked\"].map({\"S\": 0, \"C\": 1, \"Q\": 2})\n",
        "\n",
        "# 学習に使う特徴量\n",
        "features = [\"Pclass\", \"Sex\", \"Age\", \"Fare\", \"FamilySize\", \"Embarked\"]\n",
        "\n",
        "X = train[features]\n",
        "y = train[\"Survived\"]\n",
        "X_test = test[features]\n",
        "\n",
        "# モデル作成 & 学習\n",
        "model = LogisticRegression(max_iter=1000)\n",
        "model.fit(X, y)\n",
        "\n",
        "# 訓練データ内での精度チェック\n",
        "X_train, X_val, y_train, y_val = train_test_split(X, y, test_size=0.2, random_state=42)\n",
        "model_val = LogisticRegression(max_iter=1000)\n",
        "model_val.fit(X_train, y_train)\n",
        "y_pred = model_val.predict(X_val)\n",
        "print(\"Validation accuracy:\", accuracy_score(y_val, y_pred))\n",
        "\n",
        "# 提出用予測\n",
        "pred = model.predict(X_test)\n",
        "\n",
        "# 提出ファイル作成\n",
        "submission = pd.DataFrame({\n",
        "    \"PassengerId\": test[\"PassengerId\"],\n",
        "    \"Survived\": pred\n",
        "})\n",
        "submission.to_csv(\"/kaggle/working/submission.csv\", index=False)\n",
        "\n",
        "print(\"submission.csv を作成しました！\")\n"
      ]
    }
  ]
}
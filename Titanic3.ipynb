{
  "nbformat": 4,
  "nbformat_minor": 0,
  "metadata": {
    "colab": {
      "provenance": [],
      "authorship_tag": "ABX9TyNOwZmgH95hU3fU8tXfJ2BP",
      "include_colab_link": true
    },
    "kernelspec": {
      "name": "python3",
      "display_name": "Python 3"
    },
    "language_info": {
      "name": "python"
    }
  },
  "cells": [
    {
      "cell_type": "markdown",
      "metadata": {
        "id": "view-in-github",
        "colab_type": "text"
      },
      "source": [
        "<a href=\"https://colab.research.google.com/github/prime29haruno/Kaggle_Titanic/blob/main/Titanic3.ipynb\" target=\"_parent\"><img src=\"https://colab.research.google.com/assets/colab-badge.svg\" alt=\"Open In Colab\"/></a>"
      ]
    },
    {
      "cell_type": "code",
      "execution_count": null,
      "metadata": {
        "id": "aXUwDJ2wG_QF"
      },
      "outputs": [],
      "source": [
        "import pandas as pd, os\n",
        "\n",
        "train = pd.read_csv(\"/kaggle/input/titanic/train.csv\")\n",
        "test  = pd.read_csv(\"/kaggle/input/titanic/test.csv\")\n",
        "\n",
        "train[\"Age\"] = train[\"Age\"].fillna(train[\"Age\"].median())\n",
        "test[\"Age\"]  = test[\"Age\"].fillna(train[\"Age\"].median())\n",
        "\n",
        "test[\"Sex\"] = test[\"Sex\"].map({\"male\": 0, \"female\": 1})\n",
        "\n",
        "def rule_based_prediction(row):\n",
        "    age = row[\"Age\"]; sex = row[\"Sex\"];\n",
        "    pclass = row[\"Pclass\"]; pid = row[\"PassengerId\"]  # 0=male, 1=female\n",
        "    if pclass == 1:\n",
        "        if sex == 1:\n",
        "            if 0 <= age <= 12:\n",
        "                return 0\n",
        "            else:\n",
        "                return 1\n",
        "        else:\n",
        "            if pid % 2 == 1:\n",
        "                return 1\n",
        "            else:\n",
        "                return 0\n",
        "    elif pclass == 2:\n",
        "        if sex == 1:\n",
        "            return 1\n",
        "        else:\n",
        "            return 0\n",
        "    else:\n",
        "        if sex == 1:\n",
        "            if pid % 2 == 1:\n",
        "                return 1\n",
        "            else:\n",
        "                return 0\n",
        "        else:\n",
        "            return 0\n",
        "\n",
        "test[\"Survived\"] = test.apply(rule_based_prediction, axis=1)\n",
        "\n",
        "dst = \"/kaggle/working/submission.csv\"\n",
        "test[[\"PassengerId\",\"Survived\"]].to_csv(dst, index=False)\n",
        "\n",
        "print(\"作成OK?:\", os.path.exists(dst), \"→\", dst)\n",
        "print(\"working 内:\", os.listdir(\"/kaggle/working\"))\n",
        "print(pd.read_csv(dst).head())"
      ]
    }
  ]
}
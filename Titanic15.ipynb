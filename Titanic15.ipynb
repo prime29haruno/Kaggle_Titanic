{
  "nbformat": 4,
  "nbformat_minor": 0,
  "metadata": {
    "colab": {
      "provenance": [],
      "authorship_tag": "ABX9TyPmbUVr2C6jNxXbZTgyDqBh",
      "include_colab_link": true
    },
    "kernelspec": {
      "name": "python3",
      "display_name": "Python 3"
    },
    "language_info": {
      "name": "python"
    }
  },
  "cells": [
    {
      "cell_type": "markdown",
      "metadata": {
        "id": "view-in-github",
        "colab_type": "text"
      },
      "source": [
        "<a href=\"https://colab.research.google.com/github/prime29haruno/Kaggle_Titanic/blob/main/Titanic15.ipynb\" target=\"_parent\"><img src=\"https://colab.research.google.com/assets/colab-badge.svg\" alt=\"Open In Colab\"/></a>"
      ]
    },
    {
      "cell_type": "code",
      "execution_count": null,
      "metadata": {
        "id": "_LsFGUaEZBYP"
      },
      "outputs": [],
      "source": [
        "import pandas as pd\n",
        "from xgboost import XGBClassifier\n",
        "import os\n",
        "\n",
        "# ===== データ読み込み =====\n",
        "train = pd.read_csv(\"/kaggle/input/titanic/train.csv\")\n",
        "test  = pd.read_csv(\"/kaggle/input/titanic/test.csv\")\n",
        "\n",
        "# ===== 欠損処理 =====\n",
        "train[\"Age\"] = train[\"Age\"].fillna(train[\"Age\"].median())\n",
        "test[\"Age\"]  = test[\"Age\"].fillna(train[\"Age\"].median())\n",
        "train[\"Fare\"] = train[\"Fare\"].fillna(train[\"Fare\"].median())\n",
        "test[\"Fare\"]  = test[\"Fare\"].fillna(test[\"Fare\"].median())\n",
        "train[\"Embarked\"] = train[\"Embarked\"].fillna(\"S\")\n",
        "test[\"Embarked\"]  = test[\"Embarked\"].fillna(\"S\")\n",
        "\n",
        "# ===== 家族サイズ & IsAlone =====\n",
        "train[\"FamilySize\"] = train[\"SibSp\"] + train[\"Parch\"] + 1\n",
        "test[\"FamilySize\"]  = test[\"SibSp\"] + test[\"Parch\"] + 1\n",
        "train[\"IsAlone\"] = (train[\"FamilySize\"] == 1).astype(int)\n",
        "test[\"IsAlone\"]  = (test[\"FamilySize\"] == 1).astype(int)\n",
        "\n",
        "# ===== Title =====\n",
        "for df in [train, test]:\n",
        "    df[\"Title\"] = df[\"Name\"].str.extract(\" ([A-Za-z]+)\\.\")\n",
        "    df[\"Title\"] = df[\"Title\"].replace([\"Mlle\",\"Ms\"], \"Miss\")\n",
        "    df[\"Title\"] = df[\"Title\"].replace([\"Mme\"], \"Mrs\")\n",
        "    df[\"Title\"] = df[\"Title\"].replace(\n",
        "        [\"Dr\",\"Rev\",\"Col\",\"Major\",\"Capt\",\"Sir\",\"Lady\",\"Don\",\n",
        "         \"Countess\",\"Jonkheer\",\"Dona\"], \"Rare\"\n",
        "    )\n",
        "all_titles = pd.concat([train[\"Title\"], test[\"Title\"]]).unique()\n",
        "title_map = {title: idx for idx, title in enumerate(all_titles)}\n",
        "train[\"Title\"] = train[\"Title\"].map(title_map)\n",
        "test[\"Title\"]  = test[\"Title\"].map(title_map)\n",
        "\n",
        "# ===== AgeGroup & FareGroup =====\n",
        "train[\"AgeGroup\"] = pd.qcut(train[\"Age\"], 4, labels=False)\n",
        "test[\"AgeGroup\"]  = pd.qcut(test[\"Age\"], 4, labels=False)\n",
        "train[\"FareGroup\"] = pd.qcut(train[\"Fare\"], 4, labels=False)\n",
        "test[\"FareGroup\"]  = pd.qcut(test[\"Fare\"], 4, labels=False)\n",
        "\n",
        "# ===== Sex, Embarked =====\n",
        "train[\"Sex\"] = train[\"Sex\"].map({\"male\": 0, \"female\": 1})\n",
        "test[\"Sex\"]  = test[\"Sex\"].map({\"male\": 0, \"female\": 1})\n",
        "train[\"Embarked\"] = train[\"Embarked\"].map({\"S\": 0, \"C\": 1, \"Q\": 2})\n",
        "test[\"Embarked\"]  = test[\"Embarked\"].map({\"S\": 0, \"C\": 1, \"Q\": 2})\n",
        "\n",
        "# ===== 特徴量 =====\n",
        "features = [\n",
        "    \"Pclass\", \"Sex\", \"Age\", \"Fare\", \"FamilySize\", \"IsAlone\",\n",
        "    \"Embarked\", \"Title\", \"AgeGroup\", \"FareGroup\"\n",
        "]\n",
        "\n",
        "X = train[features]\n",
        "y = train[\"Survived\"]\n",
        "X_test = test[features]\n",
        "\n",
        "# ===== XGBoost モデル =====\n",
        "xgb = XGBClassifier(\n",
        "    n_estimators=500,\n",
        "    max_depth=4,\n",
        "    learning_rate=0.05,\n",
        "    subsample=0.8,\n",
        "    colsample_bytree=0.8,\n",
        "    random_state=42,\n",
        "    use_label_encoder=False,\n",
        "    eval_metric=\"logloss\"\n",
        ")\n",
        "xgb.fit(X, y)\n",
        "\n",
        "# ===== 予測 & 提出ファイル作成 =====\n",
        "pred = xgb.predict(X_test)\n",
        "\n",
        "submission = pd.DataFrame({\n",
        "    \"PassengerId\": test[\"PassengerId\"],\n",
        "    \"Survived\": pred\n",
        "})\n",
        "submission.to_csv(\"/kaggle/working/submission.csv\", index=False)\n",
        "\n",
        "# ===== 確認 =====\n",
        "print(\"作成OK?:\", os.path.exists(\"/kaggle/working/submission.csv\"))\n",
        "print(\"working 内:\", os.listdir(\"/kaggle/working\"))\n",
        "print(submission.head())"
      ]
    }
  ]
}
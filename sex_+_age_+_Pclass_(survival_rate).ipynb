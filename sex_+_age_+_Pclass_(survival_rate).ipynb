{
  "nbformat": 4,
  "nbformat_minor": 0,
  "metadata": {
    "colab": {
      "provenance": [],
      "authorship_tag": "ABX9TyP0n4uQ5Gru0ZSB3y91ZKzI",
      "include_colab_link": true
    },
    "kernelspec": {
      "name": "python3",
      "display_name": "Python 3"
    },
    "language_info": {
      "name": "python"
    }
  },
  "cells": [
    {
      "cell_type": "markdown",
      "metadata": {
        "id": "view-in-github",
        "colab_type": "text"
      },
      "source": [
        "<a href=\"https://colab.research.google.com/github/prime29haruno/Kaggle_Titanic/blob/main/sex_%2B_age_%2B_Pclass_(survival_rate).ipynb\" target=\"_parent\"><img src=\"https://colab.research.google.com/assets/colab-badge.svg\" alt=\"Open In Colab\"/></a>"
      ]
    },
    {
      "cell_type": "code",
      "execution_count": null,
      "metadata": {
        "id": "9DhT_CS0KqeT"
      },
      "outputs": [],
      "source": [
        "import pandas as pd\n",
        "\n",
        "# データ読み込み\n",
        "train = pd.read_csv(\"/kaggle/input/titanic/train.csv\")\n",
        "\n",
        "# 年齢の欠損を中央値で補完\n",
        "train[\"Age\"] = train[\"Age\"].fillna(train[\"Age\"].median())\n",
        "\n",
        "# 年齢を区間に分ける\n",
        "age_bins = [0, 12, 18, 35, 50, 120]   # 上限を120まで広げる\n",
        "age_labels = [\"0-12\", \"13-18\", \"19-35\", \"36-50\", \"51+\"]\n",
        "train[\"AgeGroup\"] = pd.cut(train[\"Age\"], bins=age_bins, labels=age_labels, right=True, include_lowest=True)\n",
        "\n",
        "# 性別 + Pclass + 年齢帯ごとに生存率を計算\n",
        "survival_rates = (\n",
        "    train.groupby([\"Sex\", \"Pclass\", \"AgeGroup\", \"FamilySize\"])[\"Survived\"]\n",
        "    .mean()\n",
        "    .reset_index()\n",
        "    .dropna()   # NaN の行を削除\n",
        ")\n",
        "\n",
        "print(survival_rates)"
      ]
    }
  ]
}
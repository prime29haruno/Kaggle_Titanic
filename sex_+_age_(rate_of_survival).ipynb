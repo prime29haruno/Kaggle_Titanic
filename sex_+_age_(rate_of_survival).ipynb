{
  "nbformat": 4,
  "nbformat_minor": 0,
  "metadata": {
    "colab": {
      "provenance": [],
      "authorship_tag": "ABX9TyMcKG1LhAipUfa+Xblwc9sS",
      "include_colab_link": true
    },
    "kernelspec": {
      "name": "python3",
      "display_name": "Python 3"
    },
    "language_info": {
      "name": "python"
    }
  },
  "cells": [
    {
      "cell_type": "markdown",
      "metadata": {
        "id": "view-in-github",
        "colab_type": "text"
      },
      "source": [
        "<a href=\"https://colab.research.google.com/github/prime29haruno/Kaggle_Titanic/blob/main/sex_%2B_age_(rate_of_survival).ipynb\" target=\"_parent\"><img src=\"https://colab.research.google.com/assets/colab-badge.svg\" alt=\"Open In Colab\"/></a>"
      ]
    },
    {
      "cell_type": "code",
      "execution_count": null,
      "metadata": {
        "id": "v8HY7G-RDzug"
      },
      "outputs": [],
      "source": [
        "import pandas as pd\n",
        "\n",
        "train = pd.read_csv(\"/kaggle/input/titanic/train.csv\")\n",
        "\n",
        "train.groupby(\"Sex\")[\"Survived\"].mean()\n",
        "\n",
        "train.groupby(pd.cut(train[\"Age\"], [0, 12, 18, 35, 50, 80]))[\"Survived\"].mean()\n",
        "\n",
        "train.groupby([\"Sex\", pd.cut(train[\"Age\"], [0, 12, 18, 35, 50, 80])])[\"Survived\"].mean()"
      ]
    }
  ]
}
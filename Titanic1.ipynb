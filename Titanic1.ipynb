{
  "nbformat": 4,
  "nbformat_minor": 0,
  "metadata": {
    "colab": {
      "provenance": []
    },
    "kernelspec": {
      "name": "python3",
      "display_name": "Python 3"
    },
    "language_info": {
      "name": "python"
    }
  },
  "cells": [
    {
      "cell_type": "code",
      "execution_count": null,
      "metadata": {
        "id": "TXgK7WCz8nbD"
      },
      "outputs": [],
      "source": [
        "#prediction by sex and age\n",
        "\n",
        "import pandas as pd, os\n",
        "\n",
        "train = pd.read_csv(\"/kaggle/input/titanic/train.csv\")\n",
        "test  = pd.read_csv(\"/kaggle/input/titanic/test.csv\")\n",
        "\n",
        "train[\"Age\"] = train[\"Age\"].fillna(train[\"Age\"].median())\n",
        "test[\"Age\"]  = test[\"Age\"].fillna(train[\"Age\"].median())\n",
        "\n",
        "test[\"Sex\"] = test[\"Sex\"].map({\"male\": 0, \"female\": 1})\n",
        "\n",
        "def rule_based_prediction(row):\n",
        "    age = row[\"Age\"]; sex = row[\"Sex\"]  # 0=male, 1=female\n",
        "    if age <= 12:            return 0\n",
        "    elif 13 <= age <= 34:    return 1\n",
        "    elif 35 <= age <= 64:    return 0 if sex == 1 else 1\n",
        "    else:                    return 0   # 65+\n",
        "\n",
        "test[\"Survived\"] = test.apply(rule_based_prediction, axis=1)\n",
        "\n",
        "dst = \"/kaggle/working/submission.csv\"\n",
        "test[[\"PassengerId\",\"Survived\"]].to_csv(dst, index=False)\n",
        "\n",
        "print(\"作成OK?:\", os.path.exists(dst), \"→\", dst)\n",
        "print(\"working 内:\", os.listdir(\"/kaggle/working\"))\n",
        "print(pd.read_csv(dst).head())"
      ]
    }
  ]
}
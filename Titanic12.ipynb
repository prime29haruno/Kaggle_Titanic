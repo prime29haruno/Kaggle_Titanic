{
  "nbformat": 4,
  "nbformat_minor": 0,
  "metadata": {
    "colab": {
      "provenance": [],
      "authorship_tag": "ABX9TyO4DRxXqN9k19tK31Wmk3/Y",
      "include_colab_link": true
    },
    "kernelspec": {
      "name": "python3",
      "display_name": "Python 3"
    },
    "language_info": {
      "name": "python"
    }
  },
  "cells": [
    {
      "cell_type": "markdown",
      "metadata": {
        "id": "view-in-github",
        "colab_type": "text"
      },
      "source": [
        "<a href=\"https://colab.research.google.com/github/prime29haruno/Kaggle_Titanic/blob/main/Titanic12.ipynb\" target=\"_parent\"><img src=\"https://colab.research.google.com/assets/colab-badge.svg\" alt=\"Open In Colab\"/></a>"
      ]
    },
    {
      "cell_type": "code",
      "execution_count": null,
      "metadata": {
        "id": "GQSx9Vz_Us6v"
      },
      "outputs": [],
      "source": [
        "import pandas as pd\n",
        "from sklearn.ensemble import RandomForestClassifier\n",
        "from sklearn.model_selection import train_test_split\n",
        "from sklearn.metrics import accuracy_score\n",
        "\n",
        "# データ読み込み\n",
        "train = pd.read_csv(\"/kaggle/input/titanic/train.csv\")\n",
        "test  = pd.read_csv(\"/kaggle/input/titanic/test.csv\")\n",
        "\n",
        "# ===== 欠損処理 =====\n",
        "train[\"Age\"] = train[\"Age\"].fillna(train[\"Age\"].median())\n",
        "test[\"Age\"]  = test[\"Age\"].fillna(train[\"Age\"].median())\n",
        "train[\"Fare\"] = train[\"Fare\"].fillna(train[\"Fare\"].median())\n",
        "test[\"Fare\"]  = test[\"Fare\"].fillna(train[\"Fare\"].median())\n",
        "train[\"Embarked\"] = train[\"Embarked\"].fillna(\"S\")\n",
        "test[\"Embarked\"]  = test[\"Embarked\"].fillna(\"S\")\n",
        "\n",
        "# ===== 家族サイズ =====\n",
        "train[\"FamilySize\"] = train[\"SibSp\"] + train[\"Parch\"] + 1\n",
        "test[\"FamilySize\"]  = test[\"SibSp\"] + test[\"Parch\"] + 1\n",
        "\n",
        "# Title 抽出\n",
        "for df in [train, test]:\n",
        "    df[\"Title\"] = df[\"Name\"].str.extract(\" ([A-Za-z]+)\\.\")\n",
        "\n",
        "# Title をまとめる\n",
        "for df in [train, test]:\n",
        "    df[\"Title\"] = df[\"Title\"].replace([\"Mlle\",\"Ms\"], \"Miss\")\n",
        "    df[\"Title\"] = df[\"Title\"].replace([\"Mme\"], \"Mrs\")\n",
        "    df[\"Title\"] = df[\"Title\"].replace(\n",
        "        [\"Dr\",\"Rev\",\"Col\",\"Major\",\"Capt\",\"Sir\",\"Lady\",\"Don\",\"Countess\",\"Jonkheer\",\"Dona\"],\n",
        "        \"Rare\"\n",
        "    )\n",
        "# train+test 両方のユニーク値を使って map を作成\n",
        "all_titles = pd.concat([train[\"Title\"], test[\"Title\"]]).unique()\n",
        "title_map = {title: idx for idx, title in enumerate(all_titles)}\n",
        "\n",
        "# 数値化\n",
        "train[\"Title\"] = train[\"Title\"].map(title_map)\n",
        "test[\"Title\"]  = test[\"Title\"].map(title_map)\n",
        "\n",
        "\n",
        "\n",
        "# ===== Sex, Embarked を数値化 =====\n",
        "train[\"Sex\"] = train[\"Sex\"].map({\"male\": 0, \"female\": 1})\n",
        "test[\"Sex\"]  = test[\"Sex\"].map({\"male\": 0, \"female\": 1})\n",
        "train[\"Embarked\"] = train[\"Embarked\"].map({\"S\": 0, \"C\": 1, \"Q\": 2})\n",
        "test[\"Embarked\"]  = test[\"Embarked\"].map({\"S\": 0, \"C\": 1, \"Q\": 2})\n",
        "\n",
        "# ===== 特徴量 =====\n",
        "features = [\"Pclass\", \"Sex\", \"Age\", \"Fare\", \"FamilySize\", \"Embarked\", \"Title\"]\n",
        "\n",
        "X = train[features]\n",
        "y = train[\"Survived\"]\n",
        "X_test = test[features]\n",
        "\n",
        "# ===== 学習データとバリデーションに分割 =====\n",
        "X_train, X_val, y_train, y_val = train_test_split(X, y, test_size=0.2, random_state=42)\n",
        "\n",
        "# ===== ランダムフォレスト =====\n",
        "rf = RandomForestClassifier(\n",
        "    n_estimators=300,\n",
        "    max_depth=6,\n",
        "    min_samples_leaf=2,\n",
        "    random_state=42\n",
        ")\n",
        "rf.fit(X_train, y_train)\n",
        "\n",
        "# バリデーション精度\n",
        "y_pred = rf.predict(X_val)\n",
        "print(\"Validation accuracy:\", accuracy_score(y_val, y_pred))\n",
        "\n",
        "# 提出用予測\n",
        "pred = rf.predict(X_test)\n",
        "\n",
        "submission = pd.DataFrame({\n",
        "    \"PassengerId\": test[\"PassengerId\"],\n",
        "    \"Survived\": pred\n",
        "})\n",
        "submission.to_csv(\"/kaggle/working/submission.csv\", index=False)\n",
        "\n",
        "print(\"submission.csv を作成しました！\")"
      ]
    }
  ]
}
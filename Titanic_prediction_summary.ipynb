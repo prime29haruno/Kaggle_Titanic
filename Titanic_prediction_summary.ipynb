{
  "nbformat": 4,
  "nbformat_minor": 0,
  "metadata": {
    "colab": {
      "provenance": [],
      "authorship_tag": "ABX9TyNit5OcVJNRq5W6phk91vTE",
      "include_colab_link": true
    },
    "kernelspec": {
      "name": "python3",
      "display_name": "Python 3"
    },
    "language_info": {
      "name": "python"
    }
  },
  "cells": [
    {
      "cell_type": "markdown",
      "metadata": {
        "id": "view-in-github",
        "colab_type": "text"
      },
      "source": [
        "<a href=\"https://colab.research.google.com/github/prime29haruno/Kaggle_Titanic/blob/main/Titanic_prediction_summary.ipynb\" target=\"_parent\"><img src=\"https://colab.research.google.com/assets/colab-badge.svg\" alt=\"Open In Colab\"/></a>"
      ]
    },
    {
      "cell_type": "markdown",
      "source": [
        "This repository documents my participation in the Kaggle competition Titanic: Machine Learning from Disaster.\n",
        "\n",
        "Through a series of experiments, I achieved a Public Leaderboard score of 0.79425, ranking in the top 6% (768/13443 participants).\n",
        "\n",
        "Below is a record of my trials, the approaches I took, and their corresponding scores."
      ],
      "metadata": {
        "id": "mCvVnVEU9UYG"
      }
    },
    {
      "cell_type": "markdown",
      "source": [
        "##0: prediction by sex\n",
        "\n",
        "  As the first step, I submitted \"gender_submission.csv\".\n",
        "\n",
        "  Score: 0.76555"
      ],
      "metadata": {
        "id": "SW-2D2IZAPsY"
      }
    },
    {
      "cell_type": "markdown",
      "source": [
        "##1: by sex and age\n",
        "\n",
        "I decided to try the rule based prediction firstly. I tried to predict the survival rate independently.\n",
        "\n",
        "Related file: \"Titanic1.ipynb\""
      ],
      "metadata": {
        "id": "d9GgPpYfBgUF"
      }
    },
    {
      "cell_type": "markdown",
      "source": [
        "##2: by sex and age -version 2\n",
        "\n",
        "To improve the accuracy, I researched the real rate of survival by sex and age. Based on the result, I predicted that women and children (age 0 - 12) survived and the other dead.\n",
        "\n",
        "Related file: \"Titanic2.ipynb\", \"sex + age (survival rate).ipynb\""
      ],
      "metadata": {
        "id": "iF4ftGrqC0NF"
      }
    },
    {
      "cell_type": "markdown",
      "source": [
        "##3: by sex, age, Pclass, PassengerID\n",
        "\n",
        "I heard that Pclass affects the survival rate, so analysed using it.\n",
        "But some of the attributes didn't show clear trend. Then, I tried to improve the prediction by separating them using PassengerID. As the result, the score decreased.\n",
        "\n",
        "Related file: \"Titanic3.ipynb\", \"sex + age + Pclass (survival rate).ipynb\""
      ],
      "metadata": {
        "id": "EC6fir0fHJoy"
      }
    },
    {
      "cell_type": "markdown",
      "source": [
        "##4: by sex, age, Pclass\n",
        "\n",
        "I stopped using PassengerID. In this prediction, I used only sex, age and Pclass.\n",
        "\n",
        "Related file: \"Titanic4.ipynb\""
      ],
      "metadata": {
        "id": "-VHVRBzkMPG_"
      }
    },
    {
      "cell_type": "markdown",
      "source": [
        "##5: by sex, age, Pclass, Embarked\n",
        "\n",
        "Embarked also affects the survival rate. I added it to my prediction.\n",
        "\n",
        "Related file: \"Titanic5.ipynb\""
      ],
      "metadata": {
        "id": "Alvlp3e9NO6X"
      }
    },
    {
      "cell_type": "markdown",
      "source": [
        "##6: adding Family Size\n",
        "\n",
        "I also added Family Size (sibsp + purch + 1).\n",
        "\n",
        "Related file: \"Titanic6.ipynb\""
      ],
      "metadata": {
        "id": "GMZCuG_YOu4R"
      }
    },
    {
      "cell_type": "markdown",
      "source": [
        "##7: adding fare\n",
        "\n",
        "I added fare which is separated into several ranges.\n",
        "\n",
        "Related file: \"Titanic7.ipynb\""
      ],
      "metadata": {
        "id": "NeZIuTqaMRXh"
      }
    },
    {
      "cell_type": "markdown",
      "source": [
        "##8: rewriting simply again\n",
        "\n",
        "As the score was not improved until last step, I decided to rewrite the code simply using only familysize, pclass, sex, and age.\n",
        "\n",
        "As the result, the score became the highest.*斜体テキスト*\n",
        "\n",
        "Related file: \"Titanic8.ipynb\"\n",
        "\n",
        "Score: 0.77511"
      ],
      "metadata": {
        "id": "3gKGLn99NHyy"
      }
    },
    {
      "cell_type": "markdown",
      "source": [
        "##9: changing approach: logistic regression\n",
        "\n",
        "I used rule-based analysis until last step, and succeeded to gain high score to some extent. Then, I changed the approach to logistic regression and started to pursue higher score.\n",
        "\n",
        "Related file: \"Titanic9.ipynb\"\n",
        "\n",
        "Score: 0.77033"
      ],
      "metadata": {
        "id": "eQQcyaOzOU6V"
      }
    },
    {
      "cell_type": "markdown",
      "source": [
        "##10: decision tree\n",
        "\n",
        "I also tryed to use decision tree.\n",
        "\n",
        "Related file: \"Titanic10.ipynb\"\n",
        "\n",
        "Score: 0.77272"
      ],
      "metadata": {
        "id": "HKI_g6zURWg1"
      }
    },
    {
      "cell_type": "markdown",
      "source": [
        "##11: random forest\n",
        "\n",
        "I tryed to use random forest. As the result, the score increased a lot.\n",
        "\n",
        "Related file: \"Titanic11.ipynb\"\n",
        "\n",
        "Score: 0.78468"
      ],
      "metadata": {
        "id": "VF-xfTLiSGqV"
      }
    },
    {
      "cell_type": "markdown",
      "source": [
        "##12: adding Title\n",
        "\n",
        "I added Title into random forest, but the score wasn't changed.\n",
        "\n",
        "Related file: \"Titanic12.ipynb\"\n",
        "\n",
        "Score: 0.78468"
      ],
      "metadata": {
        "id": "j8WNfQTdTfe-"
      }
    },
    {
      "cell_type": "markdown",
      "source": [
        "##13: IsAlone + AgeGroup + FareGroup\n",
        "\n",
        "I added more factors.\n",
        "\n",
        "Related file: \"Titanic13.ipynb\"\n",
        "\n",
        "Score: 0.78708"
      ],
      "metadata": {
        "id": "SbRfLaQ0VQ-0"
      }
    },
    {
      "cell_type": "markdown",
      "source": [
        "##14: parameter tuning\n",
        "\n",
        "I added parameter tuning into random forest.\n",
        "\n",
        "Related file: \"Titanic14.ipynb\"\n",
        "\n",
        "Score: 0.77511"
      ],
      "metadata": {
        "id": "VmmZ2UhSWI5X"
      }
    },
    {
      "cell_type": "markdown",
      "source": [
        "##15: XGBoost\n",
        "\n",
        "Related file: \"Titanic15.ipynb\"\n",
        "\n",
        "Score: 0.76794"
      ],
      "metadata": {
        "id": "EvQuX0NpXb8B"
      }
    },
    {
      "cell_type": "markdown",
      "source": [
        "##16: the attacking setting\n",
        "\n",
        "I changed the XGBoost setting more attacking.\n",
        "\n",
        "Related file: \"Titanic16.ipynb\"\n",
        "\n",
        "Score: 0.73205"
      ],
      "metadata": {
        "id": "7hBLsyJpYG-O"
      }
    },
    {
      "cell_type": "markdown",
      "source": [
        "##17: trying simple features and conservative parameter\n",
        "\n",
        "As the score decreased a lot, I stopped the attacking setting.\n",
        "\n",
        "Related file: \"Titanic17.ipynb\"\n",
        "\n",
        "Score: 0.76315"
      ],
      "metadata": {
        "id": "dnKlQij-Yllp"
      }
    },
    {
      "cell_type": "markdown",
      "source": [
        "##18: Voting Ensemble (random forest + XGBoost)\n",
        "\n",
        "Related file: \"Titanic18.ipynb\"\n",
        "\n",
        "Score: 0.77033"
      ],
      "metadata": {
        "id": "DECt66FSaoR2"
      }
    },
    {
      "cell_type": "markdown",
      "source": [
        "##19: tuning of random forest\n",
        "\n",
        "Finally, the score became much higher and achieved top 6%.\n",
        "\n",
        "Related file: \"Titanic19.ipynb\"\n",
        "\n",
        "Score: 0.79425"
      ],
      "metadata": {
        "id": "X5UfyKlVbiK7"
      }
    },
    {
      "cell_type": "markdown",
      "source": [
        "## Final Result\n",
        "- Best Model: Random Forest (tuned with `n_estimators=1000, max_depth=7, min_samples_split=4`)\n",
        "- Public Leaderboard Score: **0.79425**\n",
        "- Rank: **768 / 13443 (Top 6%)**\n",
        "\n",
        "You can see the screen shot in \"Titanic_Ongoing.pdf\" and \"Titanic_Score.pdf\""
      ],
      "metadata": {
        "id": "2rIrI2-TdMt3"
      }
    }
  ]
}
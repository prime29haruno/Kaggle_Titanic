{
  "nbformat": 4,
  "nbformat_minor": 0,
  "metadata": {
    "colab": {
      "provenance": [],
      "authorship_tag": "ABX9TyMuPQ8yFWDZGTNm+xFGI563",
      "include_colab_link": true
    },
    "kernelspec": {
      "name": "python3",
      "display_name": "Python 3"
    },
    "language_info": {
      "name": "python"
    }
  },
  "cells": [
    {
      "cell_type": "markdown",
      "metadata": {
        "id": "view-in-github",
        "colab_type": "text"
      },
      "source": [
        "<a href=\"https://colab.research.google.com/github/prime29haruno/Kaggle_Titanic/blob/main/Titanic9.ipynb\" target=\"_parent\"><img src=\"https://colab.research.google.com/assets/colab-badge.svg\" alt=\"Open In Colab\"/></a>"
      ]
    },
    {
      "cell_type": "code",
      "execution_count": null,
      "metadata": {
        "id": "Es33yW3UREFr"
      },
      "outputs": [],
      "source": [
        "import pandas as pd, os\n",
        "\n",
        "# 1) データ読み込み\n",
        "train = pd.read_csv(\"/kaggle/input/titanic/train.csv\")\n",
        "test  = pd.read_csv(\"/kaggle/input/titanic/test.csv\")\n",
        "\n",
        "# 2) 前処理（Age の欠損だけ中央値で埋めればOK）\n",
        "train[\"Age\"] = train[\"Age\"].fillna(train[\"Age\"].median())\n",
        "test[\"Age\"]  = test[\"Age\"].fillna(train[\"Age\"].median())\n",
        "\n",
        "# 3) 予測関数（2案）\n",
        "def predict_A(df):\n",
        "    # 性別のみ：女性=1, 男性=0\n",
        "    return (df[\"Sex\"] == \"female\").astype(int)\n",
        "\n",
        "def predict_B(df):\n",
        "    # 性別 + 年齢 + Pclass：優しめの改良\n",
        "    out = pd.Series(0, index=df.index)              # まず全員0(死亡)\n",
        "    out[df[\"Sex\"] == \"female\"] = 1                  # 女性は生存\n",
        "    # 3等・女性・40歳以上は死亡に戻す（過学習しにくい軽い補正）\n",
        "    mask_f_bad = (df[\"Sex\"]==\"female\") & (df[\"Pclass\"]==3) & (df[\"Age\"]>=40)\n",
        "    out[mask_f_bad] = 0\n",
        "    # 1等・男性・10歳以下は生存\n",
        "    mask_m_kid = (df[\"Sex\"]==\"male\") & (df[\"Pclass\"]==1) & (df[\"Age\"]<=10)\n",
        "    out[mask_m_kid] = 1\n",
        "    return out.astype(int)\n",
        "\n",
        "# 4) train で検証して良い方を選ぶ\n",
        "train_pred_A = predict_A(train)\n",
        "train_pred_B = predict_B(train)\n",
        "acc_A = (train_pred_A == train[\"Survived\"]).mean()\n",
        "acc_B = (train_pred_B == train[\"Survived\"]).mean()\n",
        "print(f\"Train accuracy A(gender only): {acc_A:.4f}\")\n",
        "print(f\"Train accuracy B(gender+light rules): {acc_B:.4f}\")\n",
        "\n",
        "best = \"A\" if acc_A >= acc_B else \"B\"\n",
        "print(\"Use baseline:\", best)\n",
        "\n",
        "# 5) test に適用して提出ファイル作成\n",
        "if best == \"A\":\n",
        "    test_pred = predict_A(test)\n",
        "else:\n",
        "    test_pred = predict_B(test)\n",
        "\n",
        "submission = pd.DataFrame({\n",
        "    \"PassengerId\": test[\"PassengerId\"],\n",
        "    \"Survived\": test_pred.astype(int)\n",
        "})\n",
        "dst = \"/kaggle/working/submission.csv\"\n",
        "submission.to_csv(dst, index=False)\n",
        "\n",
        "print(\"作成OK?:\", os.path.exists(dst), \"→\", dst)\n",
        "print(submission.head())"
      ]
    }
  ]
}
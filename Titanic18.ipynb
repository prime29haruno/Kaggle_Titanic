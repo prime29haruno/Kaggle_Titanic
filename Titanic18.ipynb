{
  "nbformat": 4,
  "nbformat_minor": 0,
  "metadata": {
    "colab": {
      "provenance": [],
      "authorship_tag": "ABX9TyNovdoD7lqA6P4V5wBidRov",
      "include_colab_link": true
    },
    "kernelspec": {
      "name": "python3",
      "display_name": "Python 3"
    },
    "language_info": {
      "name": "python"
    }
  },
  "cells": [
    {
      "cell_type": "markdown",
      "metadata": {
        "id": "view-in-github",
        "colab_type": "text"
      },
      "source": [
        "<a href=\"https://colab.research.google.com/github/prime29haruno/Kaggle_Titanic/blob/main/Titanic18.ipynb\" target=\"_parent\"><img src=\"https://colab.research.google.com/assets/colab-badge.svg\" alt=\"Open In Colab\"/></a>"
      ]
    },
    {
      "cell_type": "code",
      "execution_count": null,
      "metadata": {
        "id": "B7NFvl_waezE"
      },
      "outputs": [],
      "source": [
        "import pandas as pd\n",
        "from sklearn.ensemble import RandomForestClassifier, VotingClassifier\n",
        "from xgboost import XGBClassifier\n",
        "import os\n",
        "\n",
        "# ===== データ読み込み =====\n",
        "train = pd.read_csv(\"/kaggle/input/titanic/train.csv\")\n",
        "test  = pd.read_csv(\"/kaggle/input/titanic/test.csv\")\n",
        "\n",
        "# ===== 欠損処理 =====\n",
        "train[\"Age\"] = train[\"Age\"].fillna(train[\"Age\"].median())\n",
        "test[\"Age\"]  = test[\"Age\"].fillna(train[\"Age\"].median())\n",
        "train[\"Fare\"] = train[\"Fare\"].fillna(train[\"Fare\"].median())\n",
        "test[\"Fare\"]  = test[\"Fare\"].fillna(test[\"Fare\"].median())\n",
        "train[\"Embarked\"] = train[\"Embarked\"].fillna(\"S\")\n",
        "test[\"Embarked\"]  = test[\"Embarked\"].fillna(\"S\")\n",
        "\n",
        "# ===== 家族サイズ =====\n",
        "train[\"FamilySize\"] = train[\"SibSp\"] + train[\"Parch\"] + 1\n",
        "test[\"FamilySize\"]  = test[\"SibSp\"] + test[\"Parch\"] + 1\n",
        "\n",
        "# ===== Sex, Embarked =====\n",
        "train[\"Sex\"] = train[\"Sex\"].map({\"male\": 0, \"female\": 1})\n",
        "test[\"Sex\"]  = test[\"Sex\"].map({\"male\": 0, \"female\": 1})\n",
        "train[\"Embarked\"] = train[\"Embarked\"].map({\"S\": 0, \"C\": 1, \"Q\": 2})\n",
        "test[\"Embarked\"]  = test[\"Embarked\"].map({\"S\": 0, \"C\": 1, \"Q\": 2})\n",
        "\n",
        "# ===== 特徴量 =====\n",
        "features = [\"Pclass\", \"Sex\", \"Age\", \"Fare\", \"Embarked\", \"FamilySize\"\n",
        "X = train[features]\n",
        "y = train[\"Survived\"]\n",
        "X_test = test[features]\n",
        "\n",
        "# ===== モデル定義 =====\n",
        "rf = RandomForestClassifier(\n",
        "    n_estimators=800,\n",
        "    max_depth=7,\n",
        "    min_samples_leaf=2,\n",
        "    random_state=42,\n",
        "    n_jobs=-1\n",
        ")\n",
        "\n",
        "xgb = XGBClassifier(\n",
        "    n_estimators=500,\n",
        "    max_depth=4,\n",
        "    learning_rate=0.05,\n",
        "    subsample=0.8,\n",
        "    colsample_bytree=0.8,\n",
        "    random_state=42,\n",
        "    use_label_encoder=False,\n",
        "    eval_metric=\"logloss\"\n",
        ")\n",
        "\n",
        "# ===== VotingClassifier（多数決） =====\n",
        "ensemble = VotingClassifier(\n",
        "    estimators=[(\"rf\", rf), (\"xgb\", xgb)],\n",
        "    voting=\"soft\"   # 確率の平均で投票\n",
        ")\n",
        "\n",
        "# ===== 学習 =====\n",
        "ensemble.fit(X, y)\n",
        "\n",
        "# ===== 予測 =====\n",
        "pred = ensemble.predict(X_test)\n",
        "\n",
        "# ===== 提出ファイル作成 =====\n",
        "submission = pd.DataFrame({\n",
        "    \"PassengerId\": test[\"PassengerId\"],\n",
        "    \"Survived\": pred\n",
        "})\n",
        "submission.to_csv(\"/kaggle/working/submission.csv\", index=False)\n",
        "\n",
        "# ===== 確認 =====\n",
        "print(\"作成OK?:\", os.path.exists(\"/kaggle/working/submission.csv\"))\n",
        "print(\"working 内:\", os.listdir(\"/kaggle/working\"))\n",
        "print(submission.head())"
      ]
    }
  ]
}